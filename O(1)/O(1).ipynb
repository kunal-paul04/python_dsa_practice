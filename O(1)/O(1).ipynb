{
 "cells": [
  {
   "cell_type": "markdown",
   "id": "36c5440d-d5a2-4c8d-8ca0-6dd917fcf099",
   "metadata": {},
   "source": [
    "# Write a function to check if a given year is a leap year."
   ]
  },
  {
   "cell_type": "code",
   "execution_count": null,
   "id": "c02de6e1-2bb0-4c41-ba0e-9831cd2a5023",
   "metadata": {},
   "outputs": [],
   "source": [
    "'''A year is a leap year if “any one of ” the following conditions are satisfied: \n",
    "    1. The year is multiple of 400.\n",
    "    2. The year is a multiple of 4 and not a multiple of 100.\n",
    "'''"
   ]
  },
  {
   "cell_type": "code",
   "execution_count": 22,
   "id": "6b20757c-6822-48ca-a4fa-8ea4b8024829",
   "metadata": {},
   "outputs": [
    {
     "name": "stdout",
     "output_type": "stream",
     "text": [
      "2000 is a leap year\n",
      "1990 is not a leep year\n",
      "dsf is not a valid year\n"
     ]
    }
   ],
   "source": [
    "def is_leap_year(year):\n",
    "    if type(year) == int and year > 0:\n",
    "        if (year % 400 == 0) or (year % 4 == 0 and year % 100 != 0):\n",
    "            return f\"{year} is a leap year\"\n",
    "        else:\n",
    "            return f\"{year} is not a leep year\"\n",
    "    else:\n",
    "        return f\"{year} is not a valid year\"\n",
    "\n",
    "print(is_leap_year(2000))\n",
    "print(is_leap_year(1990))\n",
    "print(is_leap_year('dsf'))"
   ]
  },
  {
   "cell_type": "markdown",
   "id": "8aa34220-27ad-497b-bb97-b91764051aa8",
   "metadata": {},
   "source": [
    "# Implement a function that returns the larger of two numbers"
   ]
  },
  {
   "cell_type": "code",
   "execution_count": 27,
   "id": "5ccf5265-879f-44bb-ba00-9a82619f14f6",
   "metadata": {},
   "outputs": [
    {
     "name": "stdout",
     "output_type": "stream",
     "text": [
      "10\n",
      "42\n",
      "invalid input\n",
      "invalid input\n",
      "invalid input\n"
     ]
    }
   ],
   "source": [
    "def check_largest_number(num1, num2):\n",
    "    if type(num1) == type(num2) == int:\n",
    "        return max(num1, num2)\n",
    "    else:\n",
    "        return \"invalid input\"\n",
    "\n",
    "print(check_largest_number(10,2))\n",
    "print(check_largest_number(18,42))\n",
    "print(check_largest_number(10,'sdf'))\n",
    "print(check_largest_number('ghdd',2))\n",
    "print(check_largest_number('ghdd','qwe'))"
   ]
  },
  {
   "cell_type": "markdown",
   "id": "c50bf3b2-f1c4-4fd0-b8b8-a2ddb51b092c",
   "metadata": {},
   "source": [
    "# Write a function to find the minimum of three numbers."
   ]
  },
  {
   "cell_type": "code",
   "execution_count": 28,
   "id": "98ab0cfa-8db1-48d3-bc45-a174e7aa62bc",
   "metadata": {},
   "outputs": [
    {
     "name": "stdout",
     "output_type": "stream",
     "text": [
      "2\n",
      "18\n",
      "invalid input\n",
      "invalid input\n",
      "invalid input\n"
     ]
    }
   ],
   "source": [
    "def check_smallest_number(num1, num2, num3):\n",
    "    if type(num1) == type(num2) == type(num3) == int:\n",
    "        return min(num1, num2, num3)\n",
    "    else:\n",
    "        return \"invalid input\"\n",
    "\n",
    "print(check_smallest_number(10,2,7))\n",
    "print(check_smallest_number(18,42,100))\n",
    "print(check_smallest_number(10,'sdf',99))\n",
    "print(check_smallest_number('ghdd',2,'sdf'))\n",
    "print(check_smallest_number('ghdd','qwe','dfge'))"
   ]
  },
  {
   "cell_type": "markdown",
   "id": "5e044f5d-bc17-4cb4-80d1-b27ca2e05239",
   "metadata": {},
   "source": [
    "# Create a function to check if a number is even or odd"
   ]
  },
  {
   "cell_type": "code",
   "execution_count": 34,
   "id": "bcfd5a7f-e56b-4da3-ab81-d2865d3f9785",
   "metadata": {},
   "outputs": [
    {
     "name": "stdout",
     "output_type": "stream",
     "text": [
      "44 is even number\n",
      "199 is odd number\n",
      "sdfe is invalid integer input\n"
     ]
    }
   ],
   "source": [
    "def check_even(num):\n",
    "    if type(num) == int:\n",
    "        if num % 2 == 0:\n",
    "            return f\"{num} is even number\"\n",
    "        else:\n",
    "            return f\"{num} is odd number\"\n",
    "    else:\n",
    "        return f\"{num} is invalid integer input\"\n",
    "\n",
    "print(check_even(44))\n",
    "print(check_even(199))\n",
    "print(check_even('sdfe'))"
   ]
  },
  {
   "cell_type": "markdown",
   "id": "d7100ebf-abd4-49e6-a5c6-7c9c5b3900d8",
   "metadata": {},
   "source": [
    "# Write a function that checks if a number is positive, negative, or zero"
   ]
  },
  {
   "cell_type": "code",
   "execution_count": 33,
   "id": "e61fb8e4-3e3e-4580-8656-468147c29162",
   "metadata": {},
   "outputs": [
    {
     "name": "stdout",
     "output_type": "stream",
     "text": [
      "0 is zero\n",
      "44 is positive\n",
      "-199 is negative\n",
      "sdfe is invalid integer input\n"
     ]
    }
   ],
   "source": [
    "def check_sign(num):\n",
    "    if type(num) == int:\n",
    "        if num > 0:\n",
    "            return f\"{num} is positive\"\n",
    "        elif num < 0:\n",
    "            return f\"{num} is negative\"\n",
    "        else:\n",
    "            return f\"{num} is zero\"\n",
    "    else:\n",
    "        return f\"{num} is invalid integer input\"\n",
    "\n",
    "print(check_sign(00))\n",
    "print(check_sign(44))\n",
    "print(check_sign(-199))\n",
    "print(check_sign('sdfe'))"
   ]
  },
  {
   "cell_type": "markdown",
   "id": "fa86571a-9f5c-4c18-b95c-d0b00c8a4975",
   "metadata": {},
   "source": [
    "# Implement a function to swap the values of two variables"
   ]
  },
  {
   "cell_type": "code",
   "execution_count": 35,
   "id": "f080c9a8-109c-4c51-b85d-406db14bb2a4",
   "metadata": {},
   "outputs": [
    {
     "name": "stdout",
     "output_type": "stream",
     "text": [
      "(55, 44)\n"
     ]
    }
   ],
   "source": [
    "def swap_values(var1, var2):\n",
    "    return var2, var1\n",
    "\n",
    "print(swap_values(44, 55))"
   ]
  },
  {
   "cell_type": "markdown",
   "id": "417d4f7d-7847-4bf2-9be3-43fe478a34be",
   "metadata": {},
   "source": [
    "# Write a function that returns the last element of a list."
   ]
  },
  {
   "cell_type": "code",
   "execution_count": 40,
   "id": "555a596a-d054-4797-82be-22e5bc49c468",
   "metadata": {},
   "outputs": [
    {
     "name": "stdout",
     "output_type": "stream",
     "text": [
      "6\n",
      "10\n"
     ]
    }
   ],
   "source": [
    "def last_element(lst: list) -> any:\n",
    "    return lst[-1]\n",
    "\n",
    "print(last_element([1,2,3,4,5,6]))\n",
    "print(last_element([1,2,3,4,5,6,7,8,9,10]))"
   ]
  },
  {
   "cell_type": "markdown",
   "id": "7dbad432-545e-4004-9627-0f4adb6ee3bb",
   "metadata": {},
   "source": [
    "# Create a function to check if a string is a palindrome"
   ]
  },
  {
   "cell_type": "code",
   "execution_count": 45,
   "id": "17f3f2d2-f917-43b1-b8b6-7137f04e4b3e",
   "metadata": {},
   "outputs": [
    {
     "name": "stdout",
     "output_type": "stream",
     "text": [
      "malayalam is palindrome\n",
      "abhay is not palindrome\n"
     ]
    }
   ],
   "source": [
    "def check_palindrome(st: str) -> any:\n",
    "    if st == st[::-1]:\n",
    "        return f\"{st} is palindrome\"\n",
    "    else:\n",
    "        return f\"{st} is not palindrome\"\n",
    "\n",
    "print(check_palindrome(\"malayalam\"))\n",
    "print(check_palindrome(\"abhay\"))"
   ]
  },
  {
   "cell_type": "markdown",
   "id": "852ce1c0-fb65-48af-b8d6-9030def69f5e",
   "metadata": {},
   "source": [
    "# Write a function to calculate the area of a rectangle given its width and height."
   ]
  },
  {
   "cell_type": "code",
   "execution_count": 46,
   "id": "ce28710f-5b3c-4a4e-b3fd-9b521be60e2d",
   "metadata": {},
   "outputs": [
    {
     "name": "stdout",
     "output_type": "stream",
     "text": [
      "Area of rectangle having width = 4 and height = 7 is 28.0\n"
     ]
    }
   ],
   "source": [
    "def area_of_rectangle(width, height) -> any:\n",
    "    if type(width) == type(height) == float or type(width) == type(height) == int:\n",
    "        area = float(width * height)\n",
    "        return f\"Area of rectangle having width = {width} and height = {height} is {area}\"\n",
    "    else:\n",
    "        return \"invalid input\"\n",
    "\n",
    "print(area_of_rectangle(4, 7))"
   ]
  },
  {
   "cell_type": "markdown",
   "id": "dda1c7e2-60a5-4fcd-bdee-1dd33179a066",
   "metadata": {},
   "source": [
    "# Write a function to calculate the circumference of a circle given its radius"
   ]
  },
  {
   "cell_type": "code",
   "execution_count": 48,
   "id": "23813326-6a9e-4b15-ba13-ce766c538fd2",
   "metadata": {},
   "outputs": [
    {
     "name": "stdout",
     "output_type": "stream",
     "text": [
      "Circumference of circle having radius = 4 is 25.12\n"
     ]
    }
   ],
   "source": [
    "def circumference(radius):\n",
    "    if type(radius) == float or type(radius) == int:\n",
    "        circumference = float(2 * 3.14 * radius)\n",
    "        return f\"Circumference of circle having radius = {radius} is {circumference}\"\n",
    "    else:\n",
    "        return \"invalid input\"\n",
    "\n",
    "print(circumference(4))"
   ]
  },
  {
   "cell_type": "code",
   "execution_count": null,
   "id": "89ed9de8-c738-4bf0-b5ad-a46935223d27",
   "metadata": {},
   "outputs": [],
   "source": []
  }
 ],
 "metadata": {
  "kernelspec": {
   "display_name": "Python 3 (ipykernel)",
   "language": "python",
   "name": "python3"
  },
  "language_info": {
   "codemirror_mode": {
    "name": "ipython",
    "version": 3
   },
   "file_extension": ".py",
   "mimetype": "text/x-python",
   "name": "python",
   "nbconvert_exporter": "python",
   "pygments_lexer": "ipython3",
   "version": "3.13.0"
  }
 },
 "nbformat": 4,
 "nbformat_minor": 5
}
